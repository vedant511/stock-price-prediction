{
  "nbformat": 4,
  "nbformat_minor": 0,
  "metadata": {
    "colab": {
      "name": "stock_price_prediction.ipynb",
      "version": "0.3.2",
      "provenance": [],
      "collapsed_sections": [],
      "toc_visible": true
    },
    "kernelspec": {
      "name": "python3",
      "display_name": "Python 3"
    }
  },
  "cells": [
    {
      "metadata": {
        "id": "GyttjbrC4IIY",
        "colab_type": "text"
      },
      "cell_type": "markdown",
      "source": [
        "# Import Libraries"
      ]
    },
    {
      "metadata": {
        "id": "7DymsgBs36La",
        "colab_type": "code",
        "colab": {}
      },
      "cell_type": "code",
      "source": [
        "import numpy as np\n",
        "import pandas as pd\n",
        "import matplotlib.pyplot as plt\n",
        "from matplotlib import style\n",
        "from sklearn.linear_model import LinearRegression\n",
        "from sklearn.model_selection import train_test_split\n",
        "import datetime"
      ],
      "execution_count": 0,
      "outputs": []
    },
    {
      "metadata": {
        "id": "rM79fRyD8L3e",
        "colab_type": "text"
      },
      "cell_type": "markdown",
      "source": [
        "# Load Data Set"
      ]
    },
    {
      "metadata": {
        "id": "bcrEYPOO8rYy",
        "colab_type": "text"
      },
      "cell_type": "markdown",
      "source": [
        "For this task, I am interested to analyze and predict the stock prices of the company I work in, that is Qorvo, Inc."
      ]
    },
    {
      "metadata": {
        "id": "gA5JpGFF8Kxj",
        "colab_type": "code",
        "colab": {}
      },
      "cell_type": "code",
      "source": [
        "data = pd.read_csv('Qorvo_historic_stock_data.csv')"
      ],
      "execution_count": 0,
      "outputs": []
    },
    {
      "metadata": {
        "id": "VocmzCbq8ewq",
        "colab_type": "text"
      },
      "cell_type": "markdown",
      "source": [
        "# First Look"
      ]
    },
    {
      "metadata": {
        "id": "5qYcHt098eLF",
        "colab_type": "code",
        "colab": {
          "base_uri": "https://localhost:8080/",
          "height": 195
        },
        "outputId": "4733fd7e-de4e-41a6-93a2-8f832d0efdb3"
      },
      "cell_type": "code",
      "source": [
        "data.head()"
      ],
      "execution_count": 101,
      "outputs": [
        {
          "output_type": "execute_result",
          "data": {
            "text/html": [
              "<div>\n",
              "<style scoped>\n",
              "    .dataframe tbody tr th:only-of-type {\n",
              "        vertical-align: middle;\n",
              "    }\n",
              "\n",
              "    .dataframe tbody tr th {\n",
              "        vertical-align: top;\n",
              "    }\n",
              "\n",
              "    .dataframe thead th {\n",
              "        text-align: right;\n",
              "    }\n",
              "</style>\n",
              "<table border=\"1\" class=\"dataframe\">\n",
              "  <thead>\n",
              "    <tr style=\"text-align: right;\">\n",
              "      <th></th>\n",
              "      <th>date</th>\n",
              "      <th>close</th>\n",
              "      <th>volume</th>\n",
              "      <th>open</th>\n",
              "      <th>high</th>\n",
              "      <th>low</th>\n",
              "    </tr>\n",
              "  </thead>\n",
              "  <tbody>\n",
              "    <tr>\n",
              "      <th>0</th>\n",
              "      <td>16:00</td>\n",
              "      <td>69.07</td>\n",
              "      <td>1,027,678</td>\n",
              "      <td>69.85</td>\n",
              "      <td>70.00</td>\n",
              "      <td>69.020</td>\n",
              "    </tr>\n",
              "    <tr>\n",
              "      <th>1</th>\n",
              "      <td>2019/03/05</td>\n",
              "      <td>69.86</td>\n",
              "      <td>1010498.0000</td>\n",
              "      <td>70.26</td>\n",
              "      <td>70.56</td>\n",
              "      <td>69.320</td>\n",
              "    </tr>\n",
              "    <tr>\n",
              "      <th>2</th>\n",
              "      <td>2019/03/04</td>\n",
              "      <td>70.05</td>\n",
              "      <td>930256.0000</td>\n",
              "      <td>70.84</td>\n",
              "      <td>71.24</td>\n",
              "      <td>69.195</td>\n",
              "    </tr>\n",
              "    <tr>\n",
              "      <th>3</th>\n",
              "      <td>2019/03/01</td>\n",
              "      <td>70.50</td>\n",
              "      <td>1182367.0000</td>\n",
              "      <td>70.60</td>\n",
              "      <td>71.23</td>\n",
              "      <td>69.550</td>\n",
              "    </tr>\n",
              "    <tr>\n",
              "      <th>4</th>\n",
              "      <td>2019/02/28</td>\n",
              "      <td>70.14</td>\n",
              "      <td>1166371.0000</td>\n",
              "      <td>68.87</td>\n",
              "      <td>70.34</td>\n",
              "      <td>68.870</td>\n",
              "    </tr>\n",
              "  </tbody>\n",
              "</table>\n",
              "</div>"
            ],
            "text/plain": [
              "         date  close        volume   open   high     low\n",
              "0       16:00  69.07     1,027,678  69.85  70.00  69.020\n",
              "1  2019/03/05  69.86  1010498.0000  70.26  70.56  69.320\n",
              "2  2019/03/04  70.05   930256.0000  70.84  71.24  69.195\n",
              "3  2019/03/01  70.50  1182367.0000  70.60  71.23  69.550\n",
              "4  2019/02/28  70.14  1166371.0000  68.87  70.34  68.870"
            ]
          },
          "metadata": {
            "tags": []
          },
          "execution_count": 101
        }
      ]
    },
    {
      "metadata": {
        "id": "qth96ffZ8iZD",
        "colab_type": "code",
        "colab": {
          "base_uri": "https://localhost:8080/",
          "height": 284
        },
        "outputId": "dac0e67c-883c-4a12-b408-30b2a4225f41"
      },
      "cell_type": "code",
      "source": [
        "data.describe()"
      ],
      "execution_count": 102,
      "outputs": [
        {
          "output_type": "execute_result",
          "data": {
            "text/html": [
              "<div>\n",
              "<style scoped>\n",
              "    .dataframe tbody tr th:only-of-type {\n",
              "        vertical-align: middle;\n",
              "    }\n",
              "\n",
              "    .dataframe tbody tr th {\n",
              "        vertical-align: top;\n",
              "    }\n",
              "\n",
              "    .dataframe thead th {\n",
              "        text-align: right;\n",
              "    }\n",
              "</style>\n",
              "<table border=\"1\" class=\"dataframe\">\n",
              "  <thead>\n",
              "    <tr style=\"text-align: right;\">\n",
              "      <th></th>\n",
              "      <th>close</th>\n",
              "      <th>open</th>\n",
              "      <th>high</th>\n",
              "      <th>low</th>\n",
              "    </tr>\n",
              "  </thead>\n",
              "  <tbody>\n",
              "    <tr>\n",
              "      <th>count</th>\n",
              "      <td>1050.000000</td>\n",
              "      <td>1050.000000</td>\n",
              "      <td>1050.000000</td>\n",
              "      <td>1050.000000</td>\n",
              "    </tr>\n",
              "    <tr>\n",
              "      <th>mean</th>\n",
              "      <td>65.169771</td>\n",
              "      <td>65.139029</td>\n",
              "      <td>66.157305</td>\n",
              "      <td>64.093273</td>\n",
              "    </tr>\n",
              "    <tr>\n",
              "      <th>std</th>\n",
              "      <td>11.837153</td>\n",
              "      <td>11.860606</td>\n",
              "      <td>11.882128</td>\n",
              "      <td>11.757264</td>\n",
              "    </tr>\n",
              "    <tr>\n",
              "      <th>min</th>\n",
              "      <td>34.530000</td>\n",
              "      <td>34.540000</td>\n",
              "      <td>34.900000</td>\n",
              "      <td>33.300000</td>\n",
              "    </tr>\n",
              "    <tr>\n",
              "      <th>25%</th>\n",
              "      <td>55.155000</td>\n",
              "      <td>55.067500</td>\n",
              "      <td>55.942500</td>\n",
              "      <td>54.372500</td>\n",
              "    </tr>\n",
              "    <tr>\n",
              "      <th>50%</th>\n",
              "      <td>67.305000</td>\n",
              "      <td>67.285000</td>\n",
              "      <td>68.115000</td>\n",
              "      <td>66.230000</td>\n",
              "    </tr>\n",
              "    <tr>\n",
              "      <th>75%</th>\n",
              "      <td>74.145000</td>\n",
              "      <td>73.982500</td>\n",
              "      <td>75.245000</td>\n",
              "      <td>72.642500</td>\n",
              "    </tr>\n",
              "    <tr>\n",
              "      <th>max</th>\n",
              "      <td>87.810000</td>\n",
              "      <td>87.900000</td>\n",
              "      <td>88.350000</td>\n",
              "      <td>85.860000</td>\n",
              "    </tr>\n",
              "  </tbody>\n",
              "</table>\n",
              "</div>"
            ],
            "text/plain": [
              "             close         open         high          low\n",
              "count  1050.000000  1050.000000  1050.000000  1050.000000\n",
              "mean     65.169771    65.139029    66.157305    64.093273\n",
              "std      11.837153    11.860606    11.882128    11.757264\n",
              "min      34.530000    34.540000    34.900000    33.300000\n",
              "25%      55.155000    55.067500    55.942500    54.372500\n",
              "50%      67.305000    67.285000    68.115000    66.230000\n",
              "75%      74.145000    73.982500    75.245000    72.642500\n",
              "max      87.810000    87.900000    88.350000    85.860000"
            ]
          },
          "metadata": {
            "tags": []
          },
          "execution_count": 102
        }
      ]
    },
    {
      "metadata": {
        "id": "STFAS8UB87wf",
        "colab_type": "text"
      },
      "cell_type": "markdown",
      "source": [
        "The data is from 1/2/2015 till today. That's all the data since the company was formed"
      ]
    },
    {
      "metadata": {
        "id": "h9SM07_J9RV9",
        "colab_type": "text"
      },
      "cell_type": "markdown",
      "source": [
        "# Data Preprocessing"
      ]
    },
    {
      "metadata": {
        "id": "1B_jr7aq9oII",
        "colab_type": "text"
      },
      "cell_type": "markdown",
      "source": [
        "#### The value of date in first row is not in right format for processing, so lets correct it first"
      ]
    },
    {
      "metadata": {
        "id": "kXscng-88kte",
        "colab_type": "code",
        "colab": {}
      },
      "cell_type": "code",
      "source": [
        "data.at[0, 'date'] = datetime.date.today().strftime('%Y/%m/%d')"
      ],
      "execution_count": 0,
      "outputs": []
    },
    {
      "metadata": {
        "id": "NeYiIhdbJMUo",
        "colab_type": "text"
      },
      "cell_type": "markdown",
      "source": [
        "#### Create variables to use as data and label"
      ]
    },
    {
      "metadata": {
        "id": "C1ya7HtfJQG6",
        "colab_type": "code",
        "colab": {}
      },
      "cell_type": "code",
      "source": [
        "prices = data['close'].tolist()\n",
        "dates = data.index.tolist()"
      ],
      "execution_count": 0,
      "outputs": []
    },
    {
      "metadata": {
        "id": "7kSwUF5pJoOg",
        "colab_type": "text"
      },
      "cell_type": "markdown",
      "source": [
        "#### Convert to 1D vector"
      ]
    },
    {
      "metadata": {
        "id": "BnZx4oXFJqsN",
        "colab_type": "code",
        "colab": {}
      },
      "cell_type": "code",
      "source": [
        "dates = np.reshape(dates, (len(dates), 1))\n",
        "prices = np.reshape(prices, (len(prices), 1))"
      ],
      "execution_count": 0,
      "outputs": []
    },
    {
      "metadata": {
        "id": "LJenjpAUBW9h",
        "colab_type": "text"
      },
      "cell_type": "markdown",
      "source": [
        "### Train Test Split"
      ]
    },
    {
      "metadata": {
        "id": "OFYhuqYcA_ps",
        "colab_type": "code",
        "colab": {}
      },
      "cell_type": "code",
      "source": [
        "X_train, X_test, y_train, y_test = train_test_split(dates, prices, test_size=0.25)"
      ],
      "execution_count": 0,
      "outputs": []
    },
    {
      "metadata": {
        "id": "ZhYGqcpfB2c-",
        "colab_type": "text"
      },
      "cell_type": "markdown",
      "source": [
        "# Linear Regression Model"
      ]
    },
    {
      "metadata": {
        "id": "tIM3dEv-B3xt",
        "colab_type": "code",
        "colab": {}
      },
      "cell_type": "code",
      "source": [
        "reg_model = LinearRegression()"
      ],
      "execution_count": 0,
      "outputs": []
    },
    {
      "metadata": {
        "id": "sUWggsJgCBpm",
        "colab_type": "code",
        "colab": {
          "base_uri": "https://localhost:8080/",
          "height": 50
        },
        "outputId": "c4c5dfcd-36ed-4946-ac1a-c915874f1007"
      },
      "cell_type": "code",
      "source": [
        "reg_model.fit(X_train, y_train)"
      ],
      "execution_count": 113,
      "outputs": [
        {
          "output_type": "execute_result",
          "data": {
            "text/plain": [
              "LinearRegression(copy_X=True, fit_intercept=True, n_jobs=None,\n",
              "         normalize=False)"
            ]
          },
          "metadata": {
            "tags": []
          },
          "execution_count": 113
        }
      ]
    },
    {
      "metadata": {
        "id": "M_gIzzYWGFOm",
        "colab_type": "text"
      },
      "cell_type": "markdown",
      "source": [
        "# Plots"
      ]
    },
    {
      "metadata": {
        "id": "eNicsQQiCbKE",
        "colab_type": "code",
        "colab": {
          "base_uri": "https://localhost:8080/",
          "height": 735
        },
        "outputId": "3c282657-c681-41ba-8d16-04aa905ccad9"
      },
      "cell_type": "code",
      "source": [
        "#Train Set Graph\n",
        "plt.scatter(X_train, y_train, color='yellow', label= 'Actual Price') #plotting the initial datapoints\n",
        "plt.plot(X_train, reg_model.predict(X_train), color='blue', linewidth=3, label = 'Predicted Price') #plotting the line made by linear regression\n",
        "plt.title('Training Set')\n",
        "plt.legend()\n",
        "plt.xlabel('Date Integer')\n",
        "plt.show()\n",
        " \n",
        "#Test Set Graph\n",
        "plt.scatter(X_test, y_test, color='yellow', label= 'Actual Price') #plotting the initial datapoints\n",
        "plt.plot(X_test, reg_model.predict(X_test), color='blue', linewidth=3, label = 'Predicted Price') #plotting the line made by linear regression\n",
        "plt.title('Test Set')\n",
        "plt.legend()\n",
        "plt.xlabel('Date Integer')\n",
        "plt.show()"
      ],
      "execution_count": 114,
      "outputs": [
        {
          "output_type": "display_data",
          "data": {
            "image/png": "[encoded data removed]",
            "text/plain": [
              "<Figure size 576x396 with 1 Axes>"
            ]
          },
          "metadata": {
            "tags": []
          }
        },
        {
          "output_type": "display_data",
          "data": {
            "image/png": "[encoded data removed]",
            "text/plain": [
              "<Figure size 576x396 with 1 Axes>"
            ]
          },
          "metadata": {
            "tags": []
          }
        }
      ]
    }
  ]
}